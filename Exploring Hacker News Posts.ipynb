{
 "cells": [
  {
   "cell_type": "markdown",
   "metadata": {
    "collapsed": true
   },
   "source": [
    "We'll Analyze Hacker News Posts to uncover the profile of posts that receive more comments"
   ]
  },
  {
   "cell_type": "code",
   "execution_count": 8,
   "metadata": {
    "collapsed": false
   },
   "outputs": [],
   "source": [
    "from csv import reader\n",
    "import datetime as dt"
   ]
  },
  {
   "cell_type": "code",
   "execution_count": 17,
   "metadata": {
    "collapsed": false
   },
   "outputs": [],
   "source": [
    "opened_file = open('hacker_news.csv')\n",
    "read_file = reader(opened_file)\n",
    "hn = list(read_file)\n",
    "headers = hn[0]\n",
    "hn = hn[1:]"
   ]
  },
  {
   "cell_type": "markdown",
   "metadata": {},
   "source": [
    "print the first 5 rows"
   ]
  },
  {
   "cell_type": "code",
   "execution_count": 20,
   "metadata": {
    "collapsed": false
   },
   "outputs": [
    {
     "name": "stdout",
     "output_type": "stream",
     "text": [
      "['id', 'title', 'url', 'num_points', 'num_comments', 'author', 'created_at']\n",
      "[['12224879', 'Interactive Dynamic Video', 'http://www.interactivedynamicvideo.com/', '386', '52', 'ne0phyte', '8/4/2016 11:52'], ['10975351', 'How to Use Open Source and Shut the Fuck Up at the Same Time', 'http://hueniverse.com/2016/01/26/how-to-use-open-source-and-shut-the-fuck-up-at-the-same-time/', '39', '10', 'josep2', '1/26/2016 19:30'], ['11964716', \"Florida DJs May Face Felony for April Fools' Water Joke\", 'http://www.thewire.com/entertainment/2013/04/florida-djs-april-fools-water-joke/63798/', '2', '1', 'vezycash', '6/23/2016 22:20'], ['11919867', 'Technology ventures: From Idea to Enterprise', 'https://www.amazon.com/Technology-Ventures-Enterprise-Thomas-Byers/dp/0073523429', '3', '1', 'hswarna', '6/17/2016 0:01']]\n"
     ]
    }
   ],
   "source": [
    "print(headers)\n",
    "print(hn[0:4])"
   ]
  },
  {
   "cell_type": "markdown",
   "metadata": {},
   "source": [
    "separate ask_posts, show_posts, and other_posts"
   ]
  },
  {
   "cell_type": "code",
   "execution_count": 27,
   "metadata": {
    "collapsed": false
   },
   "outputs": [
    {
     "name": "stdout",
     "output_type": "stream",
     "text": [
      "There are 1744 ask posts: \n",
      "There are 1162 show posts: \n",
      "There are 17194 other posts: \n"
     ]
    }
   ],
   "source": [
    "ask_posts = []\n",
    "show_posts = []\n",
    "other_posts = []\n",
    "for each_post in hn:\n",
    "    title = each_post[1]\n",
    "    if title.lower().startswith('ask hn'):\n",
    "        ask_posts.append(each_post)\n",
    "    elif title.lower().startswith('show hn'):\n",
    "        show_posts.append(each_post)\n",
    "    else:\n",
    "        other_posts.append(each_post)\n",
    "\n",
    "print('There are {} ask posts: \\nThere are {} show posts: \\nThere are {} other posts: '.format(len(ask_posts), len(show_posts), len(other_posts)))"
   ]
  },
  {
   "cell_type": "markdown",
   "metadata": {},
   "source": [
    "check first 5 rows"
   ]
  },
  {
   "cell_type": "code",
   "execution_count": 31,
   "metadata": {
    "collapsed": false
   },
   "outputs": [
    {
     "name": "stdout",
     "output_type": "stream",
     "text": [
      "['12296411', 'Ask HN: How to improve my personal website?', '', '2', '6', 'ahmedbaracat', '8/16/2016 9:55']\n",
      "['10610020', 'Ask HN: Am I the only one outraged by Twitter shutting down share counts?', '', '28', '29', 'tkfx', '11/22/2015 13:43']\n",
      "['11610310', 'Ask HN: Aby recent changes to CSS that broke mobile?', '', '1', '1', 'polskibus', '5/2/2016 10:14']\n",
      "['12210105', 'Ask HN: Looking for Employee #3 How do I do it?', '', '1', '3', 'sph130', '8/2/2016 14:20']\n",
      "['10627194', 'Show HN: Wio Link  ESP8266 Based Web of Things Hardware Development Platform', 'https://iot.seeed.cc', '26', '22', 'kfihihc', '11/25/2015 14:03']\n",
      "['10646440', 'Show HN: Something pointless I made', 'http://dn.ht/picklecat/', '747', '102', 'dhotson', '11/29/2015 22:46']\n",
      "['11590768', 'Show HN: Shanhu.io, a programming playground powered by e8vm', 'https://shanhu.io', '1', '1', 'h8liu', '4/28/2016 18:05']\n",
      "['12178806', 'Show HN: Webscope  Easy way for web developers to communicate with Clients', 'http://webscopeapp.com', '3', '3', 'fastbrick', '7/28/2016 7:11']\n",
      "['12224879', 'Interactive Dynamic Video', 'http://www.interactivedynamicvideo.com/', '386', '52', 'ne0phyte', '8/4/2016 11:52']\n",
      "['10975351', 'How to Use Open Source and Shut the Fuck Up at the Same Time', 'http://hueniverse.com/2016/01/26/how-to-use-open-source-and-shut-the-fuck-up-at-the-same-time/', '39', '10', 'josep2', '1/26/2016 19:30']\n",
      "['11964716', \"Florida DJs May Face Felony for April Fools' Water Joke\", 'http://www.thewire.com/entertainment/2013/04/florida-djs-april-fools-water-joke/63798/', '2', '1', 'vezycash', '6/23/2016 22:20']\n",
      "['11919867', 'Technology ventures: From Idea to Enterprise', 'https://www.amazon.com/Technology-Ventures-Enterprise-Thomas-Byers/dp/0073523429', '3', '1', 'hswarna', '6/17/2016 0:01']\n"
     ]
    }
   ],
   "source": [
    "for each_post in ask_posts[0:4]:\n",
    "    print(each_post)\n",
    "for each_post in show_posts[0:4]:\n",
    "    print(each_post)\n",
    "for each_post in other_posts[0:4]:\n",
    "    print(each_post)    "
   ]
  },
  {
   "cell_type": "markdown",
   "metadata": {},
   "source": [
    "find the total number of comments and average number of comments"
   ]
  },
  {
   "cell_type": "code",
   "execution_count": 36,
   "metadata": {
    "collapsed": false
   },
   "outputs": [
    {
     "name": "stdout",
     "output_type": "stream",
     "text": [
      "Average ask comments: 14.038417431192661\n",
      "Average show comments: 10.31669535283993\n",
      "Average other comments: 26.8730371059672\n"
     ]
    }
   ],
   "source": [
    "total_ask_comments = 0\n",
    "total_show_comments = 0\n",
    "total_other_comments = 0\n",
    "for each_post in ask_posts:\n",
    "    total_ask_comments += int(each_post[4])\n",
    "avg_ask_comments = total_ask_comments / len(ask_posts)\n",
    "for each_post in show_posts:\n",
    "    total_show_comments += int(each_post[4])\n",
    "avg_show_comments = total_show_comments / len(show_posts)\n",
    "for each_post in other_posts:\n",
    "    total_other_comments += int(each_post[4])\n",
    "avg_other_comments = total_other_comments / len(other_posts)\n",
    "print('Average ask comments: {}\\nAverage show comments: {}\\nAverage other comments: {}'.format(avg_ask_comments, avg_show_comments, avg_other_comments))"
   ]
  },
  {
   "cell_type": "code",
   "execution_count": null,
   "metadata": {
    "collapsed": true
   },
   "outputs": [],
   "source": []
  },
  {
   "cell_type": "markdown",
   "metadata": {},
   "source": [
    "ask posts receive more comments because people are invited to respond to questions/inquiries"
   ]
  },
  {
   "cell_type": "code",
   "execution_count": 38,
   "metadata": {
    "collapsed": false
   },
   "outputs": [
    {
     "name": "stdout",
     "output_type": "stream",
     "text": [
      "[['8/16/2016 9:55', 6], ['11/22/2015 13:43', 29], ['5/2/2016 10:14', 1], ['8/2/2016 14:20', 3]]\n"
     ]
    }
   ],
   "source": [
    "result_list = []\n",
    "for each_post in ask_posts:\n",
    "    created_at = each_post[6]\n",
    "    n_comments = int(each_post[4])\n",
    "    result_list.append([created_at, n_comments])\n",
    "print(result_list[0:4])"
   ]
  },
  {
   "cell_type": "code",
   "execution_count": null,
   "metadata": {
    "collapsed": true
   },
   "outputs": [],
   "source": []
  },
  {
   "cell_type": "code",
   "execution_count": 44,
   "metadata": {
    "collapsed": false
   },
   "outputs": [],
   "source": [
    "counts_by_hour = {}\n",
    "comments_by_hour = {}\n",
    "for each_result in result_list:\n",
    "    date_created_dt = dt.datetime.strptime(each_result[0], '%m/%d/%Y %H:%M')\n",
    "    hour_created_str = date_created_dt.strftime('%H')\n",
    "    if hour_created_str not in counts_by_hour:\n",
    "        counts_by_hour[hour_created_str] = 1\n",
    "        comments_by_hour[hour_created_str] = each_result[1]\n",
    "    else: \n",
    "        counts_by_hour[hour_created_str] += 1\n",
    "        comments_by_hour[hour_created_str] += each_result[1]"
   ]
  },
  {
   "cell_type": "code",
   "execution_count": 54,
   "metadata": {
    "collapsed": false
   },
   "outputs": [
    {
     "name": "stdout",
     "output_type": "stream",
     "text": [
      "[['09', 5.5777777777777775], ['11', 11.051724137931034], ['02', 23.810344827586206], ['16', 16.796296296296298], ['20', 21.525], ['01', 11.383333333333333], ['21', 16.009174311926607], ['22', 6.746478873239437], ['17', 11.46], ['00', 8.127272727272727], ['19', 10.8], ['08', 10.25], ['15', 38.5948275862069], ['18', 13.20183486238532], ['23', 7.985294117647059], ['03', 7.796296296296297], ['07', 7.852941176470588], ['13', 14.741176470588234], ['12', 9.41095890410959], ['05', 10.08695652173913], ['14', 13.233644859813085], ['06', 9.022727272727273], ['04', 7.170212765957447], ['10', 13.440677966101696]]\n"
     ]
    }
   ],
   "source": [
    "avg_by_hour = []\n",
    "for each_hour in comments_by_hour:\n",
    "    avg_by_hour.append([each_hour, comments_by_hour[each_hour] / counts_by_hour[each_hour]])\n",
    "print(avg_by_hour)    "
   ]
  },
  {
   "cell_type": "markdown",
   "metadata": {},
   "source": [
    "this is difficult to read - let's sort the results"
   ]
  },
  {
   "cell_type": "code",
   "execution_count": 64,
   "metadata": {
    "collapsed": false
   },
   "outputs": [
    {
     "name": "stdout",
     "output_type": "stream",
     "text": [
      "Top 5 Hours for Ask Posts Comments\n",
      "15:00: 38.59 average comments per post.\n",
      "02:00: 23.81 average comments per post.\n",
      "20:00: 21.52 average comments per post.\n",
      "16:00: 16.80 average comments per post.\n"
     ]
    }
   ],
   "source": [
    "swap_avg_by_hour = []\n",
    "for each_hour in avg_by_hour:\n",
    "    swap_avg_by_hour.append([each_hour[1], each_hour[0]])\n",
    "#print(swap_avg_by_hour)\n",
    "swap_avg_by_hour.sort(reverse = True)\n",
    "sorted_swap = swap_avg_by_hour\n",
    "print('Top 5 Hours for Ask Posts Comments')\n",
    "for each_hour in sorted_swap[0:4]:\n",
    "    each_hour_dt = dt.datetime.strptime(each_hour[1], '%H')\n",
    "    template = '{}: {:.2f} average comments per post.'\n",
    "    print(template.format(each_hour_dt.strftime('%H:%M'), each_hour[0]))"
   ]
  },
  {
   "cell_type": "markdown",
   "metadata": {},
   "source": [
    "the best time to make an Ask Post is in the afternoon around 3PM"
   ]
  }
 ],
 "metadata": {
  "kernelspec": {
   "display_name": "Python 3",
   "language": "python",
   "name": "python3"
  },
  "language_info": {
   "codemirror_mode": {
    "name": "ipython",
    "version": 3
   },
   "file_extension": ".py",
   "mimetype": "text/x-python",
   "name": "python",
   "nbconvert_exporter": "python",
   "pygments_lexer": "ipython3",
   "version": "3.4.3"
  }
 },
 "nbformat": 4,
 "nbformat_minor": 2
}
